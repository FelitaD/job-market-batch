{
 "cells": [
  {
   "cell_type": "code",
   "execution_count": 5,
   "metadata": {
    "collapsed": true
   },
   "outputs": [],
   "source": [
    "import os\n",
    "import pandas as pd\n",
    "import spacy\n",
    "from spacy import displacy\n",
    "\n",
    "from config.definitions import PROJECT_PATH"
   ]
  },
  {
   "cell_type": "code",
   "execution_count": 7,
   "outputs": [],
   "source": [
    "data_path = os.path.join(PROJECT_PATH, 'etl/transform/data', 'preprocessed_jobs.csv')\n",
    "\n",
    "jobs = pd.read_csv(data_path)"
   ],
   "metadata": {
    "collapsed": false,
    "pycharm": {
     "name": "#%%\n"
    }
   }
  },
  {
   "cell_type": "code",
   "execution_count": 8,
   "outputs": [],
   "source": [
    "class ModelVisualizer:\n",
    "    def __init__(self, jobs, language='en'):\n",
    "        self.jobs = jobs[jobs['language'] == language]\n",
    "        self.language = language\n",
    "        self.model_path = os.path.join(PROJECT_PATH, f'etl/transform/data/model_{language}/model-best')\n",
    "\n",
    "    def visualize(self):\n",
    "        model_output = spacy.load(self.model_path)\n",
    "\n",
    "        doc = model_output(self.jobs.text[716])\n",
    "        colors = {\"TECHNO\": \"linear-gradient(90deg, #E1D436, #F59710)\"}\n",
    "        options = {\"ents\": [\"TECHNO\"], \"colors\": colors}\n",
    "        displacy.render(doc, style='ent', options=options)"
   ],
   "metadata": {
    "collapsed": false,
    "pycharm": {
     "name": "#%%\n"
    }
   }
  },
  {
   "cell_type": "code",
   "execution_count": 9,
   "outputs": [
    {
     "name": "stderr",
     "output_type": "stream",
     "text": [
      "/Users/donor/PycharmProjects/Reviews/venv/lib/python3.9/site-packages/spacy/util.py:833: UserWarning: [W095] Model 'en_pipeline' (0.0.0) was trained with spaCy v3.2 and may not be 100% compatible with the current version (3.2.2). If you see errors or degraded performance, download a newer compatible model or retrain your custom model with the current spaCy version. For more details and available updates, run: python -m spacy validate\n",
      "  warnings.warn(warn_msg)\n"
     ]
    },
    {
     "data": {
      "text/plain": "<IPython.core.display.HTML object>",
      "text/html": "<span class=\"tex2jax_ignore\"><div class=\"entities\" style=\"line-height: 2.5; direction: ltr\">Creative Dock is a company builder. They create innovative projects for their clients from the ground up and launch them on the market. Among their “offspring” are more than 50 start-ups, which include Zonky, Mutumutu, Pointa, SingleCase, or HoppyGo. Besides founding new start-ups, the company focuses on rebuilding processes and customer journeys in big corporations. They currently operate in 10 European countries employing roughly 350 people. The company develops new projects in several business sectors – they specialize in fintech, insurtech, eHealth, p2p sharing, and publishing among other things. They believe in managing as much work as they can in-house as opposed to excessive outsourcing. Each project has its own team supported by in-house delivery teams (IT, UX, big data, blockchain, innovations, digital marketing, content, branding, and advertising). Thanks to that, they are able to remain in startup mode and execute the steps quickly without time-consuming processes. They’re not fond of empty words but rather devote their energy to honest work. Their goal is to expand to other European countries, so they can offer their digital projects and scale the products fast across the continent. Creative Dock is the place for you. It’s where you get to showcase your talent, help build products &amp; services from start to finish, and learn from top people across industries. We are looking for DevOps engineer. There’s plenty of validated “smart” projects on our table. Take ownership of one, join the team, and build a working solution from scratch - we know you always wanted to do this. At Creative Dock, experience counts but willingness to learn is even more important. A super-formal environment? Not for us. Complicated processes? No, thanks. We value team spirit and open communication, simplicity, and getting things done. We love to see people grow, come up with ideas and implement them on a daily basis.  What makes us stand out? We know the right fit is everything. You’ll get invited for a 1 to 2-day-long “bootcamp” with your future team to see if we’re a good match. We love to share knowledge. Apart from regular in-house workshops, our Creative Talks have become a place-to-be for pros to meet up and learn from each other. Failure doesn’t scare us. Mistakes are a part of life. We don’t make a fuss about them – we fail, we learn, we try again. We’re diverse. Creative Dock is currently an international melting pot of 350+ people with various skill sets &amp; professional backgrounds. We transcend borders. We currently operate in 10 offices all over Europe. You, too, might get a chance to work on one of our projects abroad. Technology stack we’re happy to see:  Docker, \n<mark class=\"entity\" style=\"background: linear-gradient(90deg, #E1D436, #F59710); padding: 0.45em 0.6em; margin: 0 0.25em; line-height: 1; border-radius: 0.35em;\">\n    Kubernetes\n    <span style=\"font-size: 0.8em; font-weight: bold; line-height: 1; border-radius: 0.35em; vertical-align: middle; margin-left: 0.5rem\">TECHNO</span>\n</mark>\n, Cloud services (\n<mark class=\"entity\" style=\"background: linear-gradient(90deg, #E1D436, #F59710); padding: 0.45em 0.6em; margin: 0 0.25em; line-height: 1; border-radius: 0.35em;\">\n    GCE\n    <span style=\"font-size: 0.8em; font-weight: bold; line-height: 1; border-radius: 0.35em; vertical-align: middle; margin-left: 0.5rem\">TECHNO</span>\n</mark>\n, \n<mark class=\"entity\" style=\"background: linear-gradient(90deg, #E1D436, #F59710); padding: 0.45em 0.6em; margin: 0 0.25em; line-height: 1; border-radius: 0.35em;\">\n    AWS\n    <span style=\"font-size: 0.8em; font-weight: bold; line-height: 1; border-radius: 0.35em; vertical-align: middle; margin-left: 0.5rem\">TECHNO</span>\n</mark>\n, \n<mark class=\"entity\" style=\"background: linear-gradient(90deg, #E1D436, #F59710); padding: 0.45em 0.6em; margin: 0 0.25em; line-height: 1; border-radius: 0.35em;\">\n    Azure\n    <span style=\"font-size: 0.8em; font-weight: bold; line-height: 1; border-radius: 0.35em; vertical-align: middle; margin-left: 0.5rem\">TECHNO</span>\n</mark>\n), \n<mark class=\"entity\" style=\"background: linear-gradient(90deg, #E1D436, #F59710); padding: 0.45em 0.6em; margin: 0 0.25em; line-height: 1; border-radius: 0.35em;\">\n    Gitlab\n    <span style=\"font-size: 0.8em; font-weight: bold; line-height: 1; border-radius: 0.35em; vertical-align: middle; margin-left: 0.5rem\">TECHNO</span>\n</mark>\n, \n<mark class=\"entity\" style=\"background: linear-gradient(90deg, #E1D436, #F59710); padding: 0.45em 0.6em; margin: 0 0.25em; line-height: 1; border-radius: 0.35em;\">\n    PostgreSQL\n    <span style=\"font-size: 0.8em; font-weight: bold; line-height: 1; border-radius: 0.35em; vertical-align: middle; margin-left: 0.5rem\">TECHNO</span>\n</mark>\n, \n<mark class=\"entity\" style=\"background: linear-gradient(90deg, #E1D436, #F59710); padding: 0.45em 0.6em; margin: 0 0.25em; line-height: 1; border-radius: 0.35em;\">\n    Linux\n    <span style=\"font-size: 0.8em; font-weight: bold; line-height: 1; border-radius: 0.35em; vertical-align: middle; margin-left: 0.5rem\">TECHNO</span>\n</mark>\n and much more. Responsibilities: Apply cloud (\n<mark class=\"entity\" style=\"background: linear-gradient(90deg, #E1D436, #F59710); padding: 0.45em 0.6em; margin: 0 0.25em; line-height: 1; border-radius: 0.35em;\">\n    AWS\n    <span style=\"font-size: 0.8em; font-weight: bold; line-height: 1; border-radius: 0.35em; vertical-align: middle; margin-left: 0.5rem\">TECHNO</span>\n</mark>\n, \n<mark class=\"entity\" style=\"background: linear-gradient(90deg, #E1D436, #F59710); padding: 0.45em 0.6em; margin: 0 0.25em; line-height: 1; border-radius: 0.35em;\">\n    Azure\n    <span style=\"font-size: 0.8em; font-weight: bold; line-height: 1; border-radius: 0.35em; vertical-align: middle; margin-left: 0.5rem\">TECHNO</span>\n</mark>\n, \n<mark class=\"entity\" style=\"background: linear-gradient(90deg, #E1D436, #F59710); padding: 0.45em 0.6em; margin: 0 0.25em; line-height: 1; border-radius: 0.35em;\">\n    GCP\n    <span style=\"font-size: 0.8em; font-weight: bold; line-height: 1; border-radius: 0.35em; vertical-align: middle; margin-left: 0.5rem\">TECHNO</span>\n</mark>\n) computing skills to deploy upgrades and fixes.</br> Design, develop, and implement software integrations based on user feedback.</br> Troubleshoot production issues and coordinate with the development team to streamline code deployment.</br> Implement automation tools and frameworks (CI/CD pipelines).</br> Improve the company’s engineering tools, systems and procedures, and data security.</br> Processing time:  2 weeks Hiring process: screening phone call</br> one on one interview with HR and hiring manager/ project lead</br> bootcamp (1 day spent with your potential team - we understand it may sound like a lot to ask, but it is worth it)</br></div></span>"
     },
     "metadata": {},
     "output_type": "display_data"
    },
    {
     "name": "stdout",
     "output_type": "stream",
     "text": [
      "None\n"
     ]
    }
   ],
   "source": [
    "visualizer = ModelVisualizer(jobs)\n",
    "print(visualizer.visualize())"
   ],
   "metadata": {
    "collapsed": false,
    "pycharm": {
     "name": "#%%\n"
    }
   }
  }
 ],
 "metadata": {
  "kernelspec": {
   "display_name": "Python 3",
   "language": "python",
   "name": "python3"
  },
  "language_info": {
   "codemirror_mode": {
    "name": "ipython",
    "version": 2
   },
   "file_extension": ".py",
   "mimetype": "text/x-python",
   "name": "python",
   "nbconvert_exporter": "python",
   "pygments_lexer": "ipython2",
   "version": "2.7.6"
  }
 },
 "nbformat": 4,
 "nbformat_minor": 0
}